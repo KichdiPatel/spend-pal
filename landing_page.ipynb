{
 "cells": [
  {
   "cell_type": "code",
   "execution_count": 3,
   "metadata": {},
   "outputs": [
    {
     "data": {
      "text/plain": [
       "True"
      ]
     },
     "execution_count": 3,
     "metadata": {},
     "output_type": "execute_result"
    }
   ],
   "source": [
    "import os\n",
    "from twilio.rest import Client\n",
    "from dotenv import load_dotenv\n",
    "load_dotenv()"
   ]
  },
  {
   "cell_type": "code",
   "execution_count": 5,
   "metadata": {},
   "outputs": [],
   "source": [
    "def sendMessage(msg):\n",
    "    account_sid = os.getenv(\"ACCOUNT_SID\")\n",
    "    account_token = os.getenv(\"TWILIO_AUTH\")\n",
    "    client = Client(account_sid, account_token)\n",
    "\n",
    "    client.messages.create(\n",
    "        to=\"+16098651908\",\n",
    "        from_='+18669611376',\n",
    "        body=msg\n",
    "    )"
   ]
  },
  {
   "cell_type": "code",
   "execution_count": 29,
   "metadata": {},
   "outputs": [],
   "source": [
    "message = \"Shopping: 70 / 100\\nFood and Drink: 23 / 65\\nGroceries: 35 / 50\\nTravel: 63 / 80\\nTotal: 191 / 295\"\n",
    "sendMessage(message)"
   ]
  },
  {
   "cell_type": "code",
   "execution_count": 30,
   "metadata": {},
   "outputs": [],
   "source": [
    "message = \"Transaction: SP’s Sandwiches\\nAmount: $20.50\\nCategory: Food and Drink\\nDate: 8/20/2024\"\n",
    "sendMessage(message)"
   ]
  },
  {
   "cell_type": "code",
   "execution_count": 31,
   "metadata": {},
   "outputs": [],
   "source": [
    "message = \"Would you like to include this purchase in your budget?(Yes/No)\"\n",
    "sendMessage(message)"
   ]
  },
  {
   "cell_type": "code",
   "execution_count": 32,
   "metadata": {},
   "outputs": [],
   "source": [
    "message = \"Is the amount, $20.50, correct or would you like to split the amount(Approve/Split)?\"\n",
    "sendMessage(message)"
   ]
  },
  {
   "cell_type": "code",
   "execution_count": 17,
   "metadata": {},
   "outputs": [],
   "source": [
    "message = \"What is the amount you paid?\"\n",
    "sendMessage(message)"
   ]
  },
  {
   "cell_type": "code",
   "execution_count": 18,
   "metadata": {},
   "outputs": [],
   "source": [
    "message = \"Is the category, Food and Drink, correct or would you like to change the category(Approve/Change)\"\n",
    "sendMessage(message)"
   ]
  },
  {
   "cell_type": "code",
   "execution_count": 19,
   "metadata": {},
   "outputs": [],
   "source": [
    "message = \"Thank you! This transaction was added to your budget. \"\n",
    "sendMessage(message)"
   ]
  },
  {
   "cell_type": "code",
   "execution_count": 20,
   "metadata": {},
   "outputs": [],
   "source": [
    "message = \"Shopping: 70 / 100\\nFood and Drink: 33 / 65\\nGroceries: 35 / 50\\nTravel: 63 / 80\\nTotal: 191 / 295\"\n",
    "sendMessage(message)"
   ]
  },
  {
   "cell_type": "code",
   "execution_count": 28,
   "metadata": {},
   "outputs": [],
   "source": [
    "message = \"Welcome to Spend Pal!\"\n",
    "sendMessage(message)"
   ]
  },
  {
   "cell_type": "code",
   "execution_count": null,
   "metadata": {},
   "outputs": [],
   "source": []
  }
 ],
 "metadata": {
  "kernelspec": {
   "display_name": ".venv",
   "language": "python",
   "name": "python3"
  },
  "language_info": {
   "codemirror_mode": {
    "name": "ipython",
    "version": 3
   },
   "file_extension": ".py",
   "mimetype": "text/x-python",
   "name": "python",
   "nbconvert_exporter": "python",
   "pygments_lexer": "ipython3",
   "version": "3.11.5"
  }
 },
 "nbformat": 4,
 "nbformat_minor": 2
}
